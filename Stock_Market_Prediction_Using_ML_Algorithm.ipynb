{
  "nbformat": 4,
  "nbformat_minor": 0,
  "metadata": {
    "colab": {
      "name": "Stock Market Prediction Using ML Algorithm.ipynb",
      "provenance": [],
      "authorship_tag": "ABX9TyNzBeOtf5y5JxOQTeKr70Hq"
    },
    "kernelspec": {
      "name": "python3",
      "display_name": "Python 3"
    },
    "language_info": {
      "name": "python"
    }
  },
  "cells": [
    {
      "cell_type": "code",
      "metadata": {
        "id": "16my0EVbRa50"
      },
      "source": [
        "# This program uses LSTM to predict closing stock price of a coperation using last 60 day stock price\n"
      ],
      "execution_count": null,
      "outputs": []
    },
    {
      "cell_type": "code",
      "metadata": {
        "id": "KpE7wfGhTI5o"
      },
      "source": [
        "import math\n",
        "import pandas_datareader as web \n",
        "import numpy as np\n",
        "import pandas as pd\n",
        "from sklearn.preprocessing import MinMaxScaler\n",
        "from keras.models import Sequential\n",
        "from keras.layers import Dense ,LSTM \n",
        "import matplotlib.pyplot as plt\n",
        "plt.style.use('fivethirtyeight')"
      ],
      "execution_count": null,
      "outputs": []
    },
    {
      "cell_type": "code",
      "metadata": {
        "id": "4NyBjU38USrZ"
      },
      "source": [
        "#Getting the Stock \n",
        "df=web.DataReader('AAPL',data_source='yahoo' ,start='2015-01-01',end='2021-04-01')\n",
        "#Show data\n",
        "df"
      ],
      "execution_count": null,
      "outputs": []
    },
    {
      "cell_type": "code",
      "metadata": {
        "id": "meBC6g8VVMdr"
      },
      "source": [
        "df.shape"
      ],
      "execution_count": null,
      "outputs": []
    },
    {
      "cell_type": "code",
      "metadata": {
        "id": "UwQqSGHBVWFZ"
      },
      "source": [
        "#Visualization of Closing Price\n",
        "plt.figure(figsize=(16,8))\n",
        "plt.title('Closing Price History')\n",
        "plt.plot(df['Close'])\n",
        "plt.xlabel('Data',fontsize=18)\n",
        "plt.ylabel('Close Price USD($)',fontsize=18)\n",
        "plt.show"
      ],
      "execution_count": null,
      "outputs": []
    },
    {
      "cell_type": "code",
      "metadata": {
        "id": "CR5PxbKPXYqw"
      },
      "source": [
        "#New Dataframe with only Close\n",
        "data= df.filter(['Close'])\n",
        "#Convert dataset into numpy array\n",
        "dataset = data.values\n",
        "#Get the number of Rows to Train the Dataset\n",
        "training_data_len= math.ceil(len(dataset)*0.8)\n",
        "\n",
        "training_data_len"
      ],
      "execution_count": null,
      "outputs": []
    },
    {
      "cell_type": "code",
      "metadata": {
        "id": "uqMBPF1QZQw0"
      },
      "source": [
        "#Scale the Data\n",
        "scaler= MinMaxScaler(feature_range=(0,1))\n",
        "scaled_data= scaler.fit_transform(dataset)\n",
        "\n",
        "scaled_data"
      ],
      "execution_count": null,
      "outputs": []
    },
    {
      "cell_type": "code",
      "metadata": {
        "id": "CFyl_DayZ0Zn"
      },
      "source": [
        "#Create the traing dataset \n",
        "#Create the scaled training dataset\n",
        "train_data=scaled_data[0:training_data_len , :]\n",
        "\n",
        "#Split the data into x_train and y_train\n",
        "x_train=[]\n",
        "y_train=[]\n",
        " \n",
        "for i in range(60,len(train_data)):\n",
        "  x_train.append(train_data[i-60:i,0])\n",
        "  y_train.append(train_data[i,0])\n",
        "  if i<=60:\n",
        "    print(x_train)\n",
        "    print(y_train)\n",
        "    print() "
      ],
      "execution_count": null,
      "outputs": []
    },
    {
      "cell_type": "code",
      "metadata": {
        "id": "MgH03OCaby3Q"
      },
      "source": [
        "#convert X-train and Y_train into nupy array\n",
        "x_train,y_train = np.array(x_train),np.array(y_train)\n",
        "\n",
        "#Reshape the Data\n",
        "x_train = np.reshape(x_train,(x_train.shape[0],x_train.shape[1],1))\n",
        "x_train.shape"
      ],
      "execution_count": null,
      "outputs": []
    },
    {
      "cell_type": "code",
      "metadata": {
        "id": "CDGErI80cyqZ"
      },
      "source": [
        "#Build LSTM Model\n",
        "model = Sequential()\n",
        "model.add(LSTM(50,return_sequences=True,input_shape=(x_train.shape[1],1)))\n",
        "model.add(LSTM(50,return_sequences=False ))\n",
        "model.add(Dense(25))\n",
        "model.add(Dense(1))\n",
        "model.compile(loss='mean_squared_error',optimizer='adam')\n",
        "\n"
      ],
      "execution_count": null,
      "outputs": []
    },
    {
      "cell_type": "code",
      "metadata": {
        "id": "XOUSKUh9cGHZ"
      },
      "source": [
        "model.summary()"
      ],
      "execution_count": null,
      "outputs": []
    },
    {
      "cell_type": "code",
      "metadata": {
        "id": "Sbyo45azgEZA"
      },
      "source": [
        "#Train the Dataset\n",
        "model.fit(x_train,y_train,batch_size=1,epochs=1)"
      ],
      "execution_count": null,
      "outputs": []
    },
    {
      "cell_type": "code",
      "metadata": {
        "id": "4TvxcACMgpjf"
      },
      "source": [
        "#Create the Testing Dataset\n",
        "test_data = scaled_data[training_data_len - 60: , :]\n",
        "\n",
        "#Create test dataset x_test and y_test\n",
        "x_test = []\n",
        "y_test = dataset[training_data_len:,:]\n",
        "for i in range(60,len(test_data)):\n",
        "  x_test.append(test_data[i-60:i,0])\n",
        "\n"
      ],
      "execution_count": null,
      "outputs": []
    },
    {
      "cell_type": "code",
      "metadata": {
        "id": "xpbL37wuinLu"
      },
      "source": [
        "#Convert data into numpy array  \n",
        "x_test = np.array(x_test)"
      ],
      "execution_count": null,
      "outputs": []
    },
    {
      "cell_type": "code",
      "metadata": {
        "id": "PvKUAxLKwhHs"
      },
      "source": [
        "#Reshape the data\n",
        "x_test = np.reshape(x_test , (x_test.shape[0], x_test.shape[1], 1) )"
      ],
      "execution_count": null,
      "outputs": []
    },
    {
      "cell_type": "code",
      "metadata": {
        "id": "sveUlIahkcPn"
      },
      "source": [
        "#Get Model to Prediction Price Value\n",
        "\n",
        "predictions = model.predict(x_test)\n",
        "predictions = scaler.inverse_transform(predictions)\n",
        "\n"
      ],
      "execution_count": null,
      "outputs": []
    },
    {
      "cell_type": "code",
      "metadata": {
        "id": "xntsuXTymzTb",
        "colab": {
          "base_uri": "https://localhost:8080/"
        },
        "outputId": "c75805b7-f7fb-415c-fa0c-8c81ea898b23"
      },
      "source": [
        "#Getting the Root mean squared error (RMSE)\n",
        "rmse = np.sqrt(np.mean(predictions - y_test)** 2)\n",
        "rmse"
      ],
      "execution_count": null,
      "outputs": [
        {
          "output_type": "execute_result",
          "data": {
            "text/plain": [
              "3.893642000332"
            ]
          },
          "metadata": {
            "tags": []
          },
          "execution_count": 17
        }
      ]
    },
    {
      "cell_type": "code",
      "metadata": {
        "id": "x9L1rP5wnZS9"
      },
      "source": [
        "#Plot the Data\n",
        "train = data[:training_data_len]\n",
        "valid = data[training_data_len:]\n",
        "valid['Predictions'] = predictions\n",
        "\n",
        "#Visualize the Data\n",
        "plt.figure(figsize=(16,8))\n",
        "plt.title('Model')\n",
        "plt.xlabel('Date',fontsize=18)\n",
        "plt.ylabel('Close Price USD($)' ,fontsize =18)\n",
        "plt.plot(train['Close'])\n",
        "plt.plot(valid[['Close','Predictions']])\n",
        "plt.legend(['Train','Val','Predictions'],loc = 'lower right')\n",
        "plt.show()\n",
        "\n"
      ],
      "execution_count": null,
      "outputs": []
    },
    {
      "cell_type": "code",
      "metadata": {
        "id": "_f8yxVn5pUNu"
      },
      "source": [
        "#Show Valid and Predicted Prices\n",
        "valid"
      ],
      "execution_count": null,
      "outputs": []
    },
    {
      "cell_type": "code",
      "metadata": {
        "id": "P91ReNAln0ZG",
        "colab": {
          "base_uri": "https://localhost:8080/"
        },
        "outputId": "f853922a-67d0-4c16-db60-2cd3478563fc"
      },
      "source": [
        "#Get the Quote\n",
        "apple_quote= web.DataReader('AAPL',data_source='yahoo' ,start='2015-01-01',end='2021-04-30')\n",
        "#Create new Dataframe\n",
        "new_df= apple_quote.filter(['Close'])\n",
        "#Get last 60 days Closing value and get data frame into array\n",
        "last_60_days= new_df[-60:].values\n",
        "#Scale taht data B/w 0 & 1\n",
        "last_60_days_scaled = scaler.transform(last_60_days)\n",
        "#Create an empty list\n",
        "X_test = []\n",
        "#Append last 60 days\n",
        "X_test.append(last_60_days_scaled)\n",
        "#Convert X_test into numpy\n",
        "X_test= np.array(X_test)\n",
        "#Reshape the data\n",
        "X_test = np.reshape(X_test , (X_test.shape[0], X_test.shape[1], 1) )\n",
        "#Get the predicted scale value\n",
        "pred_price=model.predict(X_test)\n",
        "#undo the Scaling\n",
        "pred_price = scaler.inverse_transform(pred_price)\n",
        "\n",
        "print(pred_price)"
      ],
      "execution_count": null,
      "outputs": [
        {
          "output_type": "stream",
          "text": [
            "[[140.6808]]\n"
          ],
          "name": "stdout"
        }
      ]
    },
    {
      "cell_type": "code",
      "metadata": {
        "id": "H8xRQw5GxnOW"
      },
      "source": [
        "#get the quote\n",
        "apple_quote2= web.DataReader('AAPL',data_source='yahoo' ,start='2021-04-29',end='2021-04-30')\n",
        "print(apple_quote2['Close'])\n"
      ],
      "execution_count": null,
      "outputs": []
    }
  ]
}